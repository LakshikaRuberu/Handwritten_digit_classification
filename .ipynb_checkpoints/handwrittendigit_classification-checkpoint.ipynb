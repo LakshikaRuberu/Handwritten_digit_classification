{
 "cells": [
  {
   "cell_type": "code",
   "execution_count": 3,
   "id": "29e38f96-927f-4c82-8a8f-8eb01598cbc0",
   "metadata": {},
   "outputs": [],
   "source": [
    "import tensorflow as tf\n",
    "from tensorflow import keras\n"
   ]
  },
  {
   "cell_type": "code",
   "execution_count": 4,
   "id": "f3a5fdb1-661a-4f4d-9dc4-de4592ab35ca",
   "metadata": {},
   "outputs": [],
   "source": [
    "import matplotlib.pyplot as plt\n",
    "%matplotlib inline\n",
    "import numpy as np"
   ]
  },
  {
   "cell_type": "code",
   "execution_count": 5,
   "id": "1a2e178e-3f08-4969-8f59-6db32076a07d",
   "metadata": {},
   "outputs": [],
   "source": [
    "#loading the handwritten digits datasets from keras\n",
    "(x_train,y_train), (x_test,y_test) = keras.datasets.mnist.load_data()\n"
   ]
  },
  {
   "cell_type": "code",
   "execution_count": 6,
   "id": "d798b902-30e5-4f57-93ec-b7e91129b0e3",
   "metadata": {},
   "outputs": [
    {
     "data": {
      "text/plain": [
       "(28, 28)"
      ]
     },
     "execution_count": 6,
     "metadata": {},
     "output_type": "execute_result"
    }
   ],
   "source": [
    "#each sample is a 28*28 image\n",
    "x_train[0].shape"
   ]
  },
  {
   "cell_type": "code",
   "execution_count": 11,
   "id": "322a8a4a-78dd-40cf-b0d6-25140e7f39d5",
   "metadata": {},
   "outputs": [
    {
     "data": {
      "text/plain": [
       "<matplotlib.image.AxesImage at 0x7f92e0491460>"
      ]
     },
     "execution_count": 11,
     "metadata": {},
     "output_type": "execute_result"
    },
    {
     "data": {
      "image/png": "[encoded data removed]",
      "text/plain": [
       "<Figure size 288x288 with 1 Axes>"
      ]
     },
     "metadata": {
      "needs_background": "light"
     },
     "output_type": "display_data"
    }
   ],
   "source": [
    "#how does it really look?\n",
    "plt.matshow(x_train[0])"
   ]
  },
  {
   "cell_type": "code",
   "execution_count": 8,
   "id": "a2c3edb0-019d-4262-95ea-e134f486ba76",
   "metadata": {},
   "outputs": [
    {
     "data": {
      "text/plain": [
       "5"
      ]
     },
     "execution_count": 8,
     "metadata": {},
     "output_type": "execute_result"
    }
   ],
   "source": [
    "#how does the training data of y looks?\n",
    "y_train[0]"
   ]
  },
  {
   "cell_type": "markdown",
   "id": "c74822f5-7b0b-4f9f-81c0-5926e4c369ce",
   "metadata": {},
   "source": [
    "We scale training and test data"
   ]
  },
  {
   "cell_type": "code",
   "execution_count": 16,
   "id": "6b131126-8e31-4b5a-b855-7578980bacf5",
   "metadata": {},
   "outputs": [],
   "source": [
    "x_test=x_test/255\n",
    "x_train=x_train/255"
   ]
  },
  {
   "cell_type": "markdown",
   "id": "f2133802-0110-49cb-b64f-24f2fe7ed76f",
   "metadata": {},
   "source": [
    "We have to convert 28*28 2-D array to a 1_D array (flattening)"
   ]
  },
  {
   "cell_type": "code",
   "execution_count": 17,
   "id": "0d42fa55-5a83-46eb-9688-9e0e8750e9a5",
   "metadata": {},
   "outputs": [
    {
     "data": {
      "text/plain": [
       "(60000, 784)"
      ]
     },
     "execution_count": 17,
     "metadata": {},
     "output_type": "execute_result"
    }
   ],
   "source": [
    "x_trained_flattened=x_train.reshape(len(x_train),28*28)\n",
    "x_trained_flattened.shape"
   ]
  },
  {
   "cell_type": "code",
   "execution_count": 18,
   "id": "d698e8a8-bffb-49ca-9807-7ec2815a46b7",
   "metadata": {},
   "outputs": [
    {
     "data": {
      "text/plain": [
       "(10000, 784)"
      ]
     },
     "execution_count": 18,
     "metadata": {},
     "output_type": "execute_result"
    }
   ],
   "source": [
    "x_test_flattened=x_test.reshape(len(x_test),28*28)\n",
    "x_test_flattened.shape"
   ]
  },
  {
   "cell_type": "markdown",
   "id": "5197255f-cf35-4f81-9c73-baab641386ba",
   "metadata": {},
   "source": [
    "So we have a stack of layers. We have 784 input layers and 10 output layers. every input lataer is connected with each output neuron. Here we use Sigmoid actvation function "
   ]
  },
  {
   "cell_type": "markdown",
   "id": "8a4885a6-4a83-4cee-ad96-ffd7409e43eb",
   "metadata": {},
   "source": [
    "First, Define the Neural network. Then compile and fit the model"
   ]
  },
  {
   "cell_type": "code",
   "execution_count": 23,
   "id": "ffb754c1-4e29-46c8-aa87-73cdade42d2e",
   "metadata": {},
   "outputs": [
    {
     "name": "stdout",
     "output_type": "stream",
     "text": [
      "Epoch 1/10\n",
      "1875/1875 [==============================] - 1s 698us/step - loss: 0.7182 - accuracy: 0.8134\n",
      "Epoch 2/10\n",
      "1875/1875 [==============================] - 1s 679us/step - loss: 0.3104 - accuracy: 0.9135\n",
      "Epoch 3/10\n",
      "1875/1875 [==============================] - 1s 715us/step - loss: 0.2880 - accuracy: 0.9197\n",
      "Epoch 4/10\n",
      "1875/1875 [==============================] - 1s 728us/step - loss: 0.2718 - accuracy: 0.9240\n",
      "Epoch 5/10\n",
      "1875/1875 [==============================] - 1s 704us/step - loss: 0.2640 - accuracy: 0.92730s - loss: 0.2640 - accuracy: 0.92\n",
      "Epoch 6/10\n",
      "1875/1875 [==============================] - 1s 700us/step - loss: 0.2659 - accuracy: 0.9255\n",
      "Epoch 7/10\n",
      "1875/1875 [==============================] - 1s 684us/step - loss: 0.2553 - accuracy: 0.9275\n",
      "Epoch 8/10\n",
      "1875/1875 [==============================] - 1s 686us/step - loss: 0.2479 - accuracy: 0.9314\n",
      "Epoch 9/10\n",
      "1875/1875 [==============================] - 1s 673us/step - loss: 0.2499 - accuracy: 0.9307\n",
      "Epoch 10/10\n",
      "1875/1875 [==============================] - 1s 672us/step - loss: 0.2520 - accuracy: 0.9304\n"
     ]
    },
    {
     "data": {
      "text/plain": [
       "<tensorflow.python.keras.callbacks.History at 0x7f92e05b03d0>"
      ]
     },
     "execution_count": 23,
     "metadata": {},
     "output_type": "execute_result"
    }
   ],
   "source": [
    "model=keras.Sequential([keras.layers.Dense(10,input_shape=(784,),activation='sigmoid')]) \n",
    "#dense means every input lataer is connected with each output neuron.\n",
    "\n",
    "model.compile(optimizer='adam', \n",
    "              loss='sparse_categorical_crossentropy',\n",
    "              metrics=['accuracy'])\n",
    "\n",
    "model.fit(x_trained_flattened,y_train,epochs=10)"
   ]
  },
  {
   "cell_type": "markdown",
   "id": "0de11572-ee3c-4386-bc99-092ca2237b3f",
   "metadata": {},
   "source": [
    "Now the model is evaluated against test data"
   ]
  },
  {
   "cell_type": "code",
   "execution_count": 24,
   "id": "aad94624-e5c2-4c90-905a-6c90343e0e72",
   "metadata": {},
   "outputs": [
    {
     "name": "stdout",
     "output_type": "stream",
     "text": [
      "313/313 [==============================] - 0s 474us/step - loss: 0.2644 - accuracy: 0.9263\n"
     ]
    },
    {
     "data": {
      "text/plain": [
       "[0.2644011080265045, 0.9262999892234802]"
      ]
     },
     "execution_count": 24,
     "metadata": {},
     "output_type": "execute_result"
    }
   ],
   "source": [
    "model.evaluate(x_test_flattened,y_test)"
   ]
  },
  {
   "cell_type": "markdown",
   "id": "16af49f8-880e-4296-8581-93234ced7fdb",
   "metadata": {},
   "source": [
    "This has a good accuracy of 92%. Prediction"
   ]
  },
  {
   "cell_type": "code",
   "execution_count": 25,
   "id": "ceeb3007-9d6b-4317-821c-f1a9320a4f97",
   "metadata": {},
   "outputs": [
    {
     "data": {
      "text/plain": [
       "<matplotlib.image.AxesImage at 0x7f9320b47880>"
      ]
     },
     "execution_count": 25,
     "metadata": {},
     "output_type": "execute_result"
    },
    {
     "data": {
      "image/png": "[encoded data removed]",
      "text/plain": [
       "<Figure size 288x288 with 1 Axes>"
      ]
     },
     "metadata": {
      "needs_background": "light"
     },
     "output_type": "display_data"
    }
   ],
   "source": [
    "plt.matshow(x_test[0])"
   ]
  },
  {
   "cell_type": "code",
   "execution_count": 27,
   "id": "174fc9e7-ee60-42a3-ae59-be018c792e7b",
   "metadata": {},
   "outputs": [],
   "source": [
    "y_predicted=model.predict(x_test_flattened)\n",
    "y_predicted[0]"
   ]
  },
  {
   "cell_type": "markdown",
   "id": "b0776ac7-c1f2-4a64-8106-0c3e10d488f1",
   "metadata": {},
   "source": [
    "This produce the probability of each output neuron. Print the index of max"
   ]
  },
  {
   "cell_type": "code",
   "execution_count": 29,
   "id": "025c6f69-9efb-4cd6-9668-160583edbf71",
   "metadata": {},
   "outputs": [
    {
     "data": {
      "text/plain": [
       "7"
      ]
     },
     "execution_count": 29,
     "metadata": {},
     "output_type": "execute_result"
    }
   ],
   "source": [
    "np.argmax(y_predicted[0])"
   ]
  },
  {
   "cell_type": "markdown",
   "id": "0edfde86-c82c-4e63-a032-c4bb981980c0",
   "metadata": {},
   "source": [
    "Confusion Matrix\n"
   ]
  },
  {
   "cell_type": "code",
   "execution_count": 36,
   "id": "950f8463-863d-4da3-95eb-649734cb83ad",
   "metadata": {},
   "outputs": [],
   "source": [
    "y_predicted_labels=[np.argmax(i) for i in y_predicted] #convert the array in each y_predicted to the corresponding digit\n",
    "conf_mat=tf.math.confusion_matrix(labels=y_test,predictions=y_predicted_labels)"
   ]
  },
  {
   "cell_type": "markdown",
   "id": "84cd69e9-0417-41c4-b2a8-f5eedd9c0e91",
   "metadata": {},
   "source": [
    "Observing an heat map to better visualize\n"
   ]
  },
  {
   "cell_type": "code",
   "execution_count": 37,
   "id": "e2d77275-8713-4e36-8e49-ed6756dc73d2",
   "metadata": {},
   "outputs": [
    {
     "data": {
      "text/plain": [
       "Text(69.0, 0.5, 'observed')"
      ]
     },
     "execution_count": 37,
     "metadata": {},
     "output_type": "execute_result"
    },
    {
     "data": {
      "image/png": "[encoded data removed]",
      "text/plain": [
       "<Figure size 720x504 with 2 Axes>"
      ]
     },
     "metadata": {
      "needs_background": "light"
     },
     "output_type": "display_data"
    }
   ],
   "source": [
    "import seaborn as sn\n",
    "plt.figure(figsize= (10,7))\n",
    "sn.heatmap(conf_mat,annot=True, fmt='d')\n",
    "plt.xlabel('predicted')\n",
    "plt.ylabel('observed')\n"
   ]
  },
  {
   "cell_type": "markdown",
   "id": "3a0a3a23-5e89-4a81-98f8-34af2602a443",
   "metadata": {},
   "source": [
    "In the above dagram the numbers in the off diagonal vslues imply misclssifications. For an example, there were 44 instances when number 2 was misclassified as number 8.\n"
   ]
  },
  {
   "cell_type": "markdown",
   "id": "c08a2270-3702-4425-9011-c3a23684acb5",
   "metadata": {},
   "source": [
    "Adding a hidden layer"
   ]
  },
  {
   "cell_type": "code",
   "execution_count": 39,
   "id": "10aed5d2-3b8a-425e-9689-f03287cdd159",
   "metadata": {},
   "outputs": [
    {
     "name": "stdout",
     "output_type": "stream",
     "text": [
      "Epoch 1/10\n",
      "1875/1875 [==============================] - 2s 757us/step - loss: 0.4568 - accuracy: 0.8699\n",
      "Epoch 2/10\n",
      "1875/1875 [==============================] - 2s 828us/step - loss: 0.1379 - accuracy: 0.9595\n",
      "Epoch 3/10\n",
      "1875/1875 [==============================] - 1s 740us/step - loss: 0.0857 - accuracy: 0.9742\n",
      "Epoch 4/10\n",
      "1875/1875 [==============================] - 1s 738us/step - loss: 0.0651 - accuracy: 0.9800\n",
      "Epoch 5/10\n",
      "1875/1875 [==============================] - 1s 737us/step - loss: 0.0510 - accuracy: 0.9847\n",
      "Epoch 6/10\n",
      "1875/1875 [==============================] - 1s 743us/step - loss: 0.0401 - accuracy: 0.9877\n",
      "Epoch 7/10\n",
      "1875/1875 [==============================] - 1s 726us/step - loss: 0.0308 - accuracy: 0.9910\n",
      "Epoch 8/10\n",
      "1875/1875 [==============================] - 1s 730us/step - loss: 0.0273 - accuracy: 0.9926\n",
      "Epoch 9/10\n",
      "1875/1875 [==============================] - 1s 740us/step - loss: 0.0220 - accuracy: 0.9937\n",
      "Epoch 10/10\n",
      "1875/1875 [==============================] - 1s 727us/step - loss: 0.0182 - accuracy: 0.9947\n"
     ]
    },
    {
     "data": {
      "text/plain": [
       "<tensorflow.python.keras.callbacks.History at 0x7f93046ed640>"
      ]
     },
     "execution_count": 39,
     "metadata": {},
     "output_type": "execute_result"
    }
   ],
   "source": [
    "model=keras.Sequential([keras.layers.Dense(100,input_shape=(784,),activation='relu'),\n",
    "                        keras.layers.Dense(10,activation='sigmoid')]) \n",
    "#dense means every input lataer is connected with each output neuron.\n",
    "\n",
    "model.compile(optimizer='adam', \n",
    "              loss='sparse_categorical_crossentropy',\n",
    "              metrics=['accuracy'])\n",
    "\n",
    "model.fit(x_trained_flattened,y_train,epochs=10)"
   ]
  },
  {
   "cell_type": "code",
   "execution_count": 40,
   "id": "bac03e63-3a99-4668-a676-36be26a365a6",
   "metadata": {},
   "outputs": [
    {
     "name": "stdout",
     "output_type": "stream",
     "text": [
      "313/313 [==============================] - 0s 494us/step - loss: 0.0850 - accuracy: 0.9752\n"
     ]
    },
    {
     "data": {
      "text/plain": [
       "[0.08501054346561432, 0.9751999974250793]"
      ]
     },
     "execution_count": 40,
     "metadata": {},
     "output_type": "execute_result"
    }
   ],
   "source": [
    "model.evaluate(x_test_flattened,y_test)"
   ]
  },
  {
   "cell_type": "markdown",
   "id": "4fd3d68d-1024-4149-8f49-8d87f219698c",
   "metadata": {},
   "source": [
    "Now the accuracy improved to 98 %. "
   ]
  },
  {
   "cell_type": "code",
   "execution_count": 41,
   "id": "e98d81c2-cecf-4a63-ba35-9a5df08cd481",
   "metadata": {},
   "outputs": [
    {
     "data": {
      "text/plain": [
       "Text(69.0, 0.5, 'observed')"
      ]
     },
     "execution_count": 41,
     "metadata": {},
     "output_type": "execute_result"
    },
    {
     "data": {
      "image/png": "[encoded data removed]",
      "text/plain": [
       "<Figure size 720x504 with 2 Axes>"
      ]
     },
     "metadata": {
      "needs_background": "light"
     },
     "output_type": "display_data"
    }
   ],
   "source": [
    "y_predicted=model.predict(x_test_flattened)\n",
    "y_predicted_labels=[np.argmax(i) for i in y_predicted] #convert the array in each y_predicted to the corresponding digit\n",
    "conf_mat=tf.math.confusion_matrix(labels=y_test,predictions=y_predicted_labels)\n",
    "\n",
    "import seaborn as sn\n",
    "plt.figure(figsize= (10,7))\n",
    "sn.heatmap(conf_mat,annot=True, fmt='d')\n",
    "plt.xlabel('predicted')\n",
    "plt.ylabel('observed')"
   ]
  },
  {
   "cell_type": "markdown",
   "id": "3ccc3113-a7ae-44f3-b575-ab0d2468c368",
   "metadata": {},
   "source": [
    "The folowing code allows to put X-train and test data to the model without flattening\n"
   ]
  },
  {
   "cell_type": "code",
   "execution_count": 44,
   "id": "57cb5654-26e7-4a07-be51-d2ba27fbd5f6",
   "metadata": {},
   "outputs": [
    {
     "name": "stdout",
     "output_type": "stream",
     "text": [
      "Epoch 1/10\n",
      "1875/1875 [==============================] - 2s 771us/step - loss: 0.4554 - accuracy: 0.8703\n",
      "Epoch 2/10\n",
      "1875/1875 [==============================] - 2s 814us/step - loss: 0.1310 - accuracy: 0.9615\n",
      "Epoch 3/10\n",
      "1875/1875 [==============================] - 1s 743us/step - loss: 0.0883 - accuracy: 0.9738\n",
      "Epoch 4/10\n",
      "1875/1875 [==============================] - 1s 754us/step - loss: 0.0644 - accuracy: 0.9808\n",
      "Epoch 5/10\n",
      "1875/1875 [==============================] - 1s 752us/step - loss: 0.0525 - accuracy: 0.9844\n",
      "Epoch 6/10\n",
      "1875/1875 [==============================] - 1s 733us/step - loss: 0.0390 - accuracy: 0.9882\n",
      "Epoch 7/10\n",
      "1875/1875 [==============================] - 1s 745us/step - loss: 0.0302 - accuracy: 0.9914\n",
      "Epoch 8/10\n",
      "1875/1875 [==============================] - 1s 730us/step - loss: 0.0277 - accuracy: 0.9917\n",
      "Epoch 9/10\n",
      "1875/1875 [==============================] - 1s 758us/step - loss: 0.0197 - accuracy: 0.9945\n",
      "Epoch 10/10\n",
      "1875/1875 [==============================] - 1s 748us/step - loss: 0.0196 - accuracy: 0.9938\n"
     ]
    },
    {
     "data": {
      "text/plain": [
       "<tensorflow.python.keras.callbacks.History at 0x7f92f1a36970>"
      ]
     },
     "execution_count": 44,
     "metadata": {},
     "output_type": "execute_result"
    }
   ],
   "source": [
    "model=keras.Sequential([keras.layers.Flatten(input_shape=(28,28)),\n",
    "                        keras.layers.Dense(100,activation='relu'),\n",
    "                        keras.layers.Dense(10,activation='sigmoid')]) \n",
    "#dense means every input lataer is connected with each output neuron.\n",
    "\n",
    "model.compile(optimizer='adam', \n",
    "              loss='sparse_categorical_crossentropy',\n",
    "              metrics=['accuracy'])\n",
    "\n",
    "model.fit(x_train,y_train,epochs=10)"
   ]
  },
  {
   "cell_type": "code",
   "execution_count": null,
   "id": "31de708f-60d4-4b78-b0a8-b41a96789db1",
   "metadata": {},
   "outputs": [],
   "source": []
  }
 ],
 "metadata": {
  "kernelspec": {
   "display_name": "Python 3 (ipykernel)",
   "language": "python",
   "name": "python3"
  },
  "language_info": {
   "codemirror_mode": {
    "name": "ipython",
    "version": 3
   },
   "file_extension": ".py",
   "mimetype": "text/x-python",
   "name": "python",
   "nbconvert_exporter": "python",
   "pygments_lexer": "ipython3",
   "version": "3.9.12"
  }
 },
 "nbformat": 4,
 "nbformat_minor": 5
}
